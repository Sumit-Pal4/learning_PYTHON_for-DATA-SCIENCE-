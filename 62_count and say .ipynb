{
 "cells": [
  {
   "cell_type": "markdown",
   "id": "6ff78b0b",
   "metadata": {},
   "source": [
    "## 62_count & say problem"
   ]
  },
  {
   "cell_type": "code",
   "execution_count": 2,
   "id": "bbf856cc",
   "metadata": {},
   "outputs": [
    {
     "name": "stdout",
     "output_type": "stream",
     "text": [
      "length::::  6\n",
      "1\n",
      "2\n",
      "3\n",
      "['111']\n",
      "4\n"
     ]
    },
    {
     "ename": "IndexError",
     "evalue": "string index out of range",
     "output_type": "error",
     "traceback": [
      "\u001b[1;31m---------------------------------------------------------------------------\u001b[0m",
      "\u001b[1;31mIndexError\u001b[0m                                Traceback (most recent call last)",
      "\u001b[1;32mC:\\Users\\SUMITP~1\\AppData\\Local\\Temp/ipykernel_38548/4181199307.py\u001b[0m in \u001b[0;36m<module>\u001b[1;34m\u001b[0m\n\u001b[0;32m     35\u001b[0m \u001b[1;32mfor\u001b[0m \u001b[0mi\u001b[0m \u001b[1;32min\u001b[0m \u001b[0mrange\u001b[0m\u001b[1;33m(\u001b[0m\u001b[0ml\u001b[0m\u001b[1;33m)\u001b[0m\u001b[1;33m:\u001b[0m\u001b[1;33m\u001b[0m\u001b[1;33m\u001b[0m\u001b[0m\n\u001b[0;32m     36\u001b[0m     \u001b[0mstart\u001b[0m\u001b[1;33m=\u001b[0m\u001b[0mst\u001b[0m\u001b[1;33m[\u001b[0m\u001b[1;36m0\u001b[0m\u001b[1;33m]\u001b[0m\u001b[1;33m\u001b[0m\u001b[1;33m\u001b[0m\u001b[0m\n\u001b[1;32m---> 37\u001b[1;33m     \u001b[1;32mif\u001b[0m\u001b[1;33m(\u001b[0m\u001b[0mst\u001b[0m\u001b[1;33m[\u001b[0m\u001b[0ma\u001b[0m\u001b[1;33m]\u001b[0m\u001b[1;33m!=\u001b[0m\u001b[0mst\u001b[0m\u001b[1;33m[\u001b[0m\u001b[1;36m0\u001b[0m\u001b[1;33m]\u001b[0m \u001b[1;33m)\u001b[0m\u001b[1;33m:\u001b[0m\u001b[1;33m\u001b[0m\u001b[1;33m\u001b[0m\u001b[0m\n\u001b[0m\u001b[0;32m     38\u001b[0m         \u001b[0mls\u001b[0m\u001b[1;33m.\u001b[0m\u001b[0mappend\u001b[0m\u001b[1;33m(\u001b[0m\u001b[0mst\u001b[0m\u001b[1;33m[\u001b[0m\u001b[1;36m0\u001b[0m\u001b[1;33m:\u001b[0m\u001b[0ma\u001b[0m\u001b[1;33m]\u001b[0m\u001b[1;33m)\u001b[0m\u001b[1;33m\u001b[0m\u001b[1;33m\u001b[0m\u001b[0m\n\u001b[0;32m     39\u001b[0m         \u001b[0mbegin\u001b[0m\u001b[1;33m=\u001b[0m\u001b[1;36m0\u001b[0m\u001b[1;33m\u001b[0m\u001b[1;33m\u001b[0m\u001b[0m\n",
      "\u001b[1;31mIndexError\u001b[0m: string index out of range"
     ]
    }
   ],
   "source": [
    "def lis_func(count,s):\n",
    "    l1=[]\n",
    "    l1.append(count)\n",
    "    l1.append(s)\n",
    "    listToString(l1)\n",
    "def listToString(s):\n",
    " \n",
    "    # initialize an empty string\n",
    "    str1 = \"\"\n",
    " \n",
    "    # traverse in the string\n",
    "    for ele in s:\n",
    "        str1 += ele\n",
    " \n",
    "    # return string\n",
    "    return str1    \n",
    "      \n",
    "\n",
    "\n",
    "\n",
    "def conv(c,s):\n",
    "    str=\"\"\n",
    "    str=str+c\n",
    "    str=str+s\n",
    "    print(str)\n",
    "\n",
    "st=\"111223\"\n",
    "ls=[]\n",
    "l=len(st)\n",
    "print(\"length:::: \",l)\n",
    "last=l-1\n",
    "start=st[0]\n",
    "begin=0\n",
    "a=0\n",
    "b=0\n",
    "for i in range(l):\n",
    "    start=st[0]\n",
    "    if\n",
    "    if(st[a]!=st[0] ):\n",
    "        ls.append(st[0:a])\n",
    "        begin=0\n",
    "        st=st[a:]\n",
    "        print(ls)\n",
    "    a=a+1\n",
    "    print(a)\n",
    "    begin=1\n",
    "        \n",
    "        \n",
    "\n",
    "         \n",
    "    \n",
    "print(ls)    \n",
    "x=\"888\"\n",
    "l=len(x)\n",
    "print(\"length: \",l)\n",
    "\n",
    "for i in range(l):\n",
    "    s=x[0]\n",
    "    if(x[i]!=s or i==(l-1)):\n",
    "        #print(\"i: \",i)\n",
    "        count=i+1\n",
    "        c=str(count)\n",
    "        conv(c,s)\n",
    "\n"
   ]
  },
  {
   "cell_type": "code",
   "execution_count": 17,
   "id": "15e02f5f",
   "metadata": {},
   "outputs": [
    {
     "name": "stdout",
     "output_type": "stream",
     "text": [
      "23\n"
     ]
    }
   ],
   "source": [
    "sm=\"11123\"\n",
    "q=\"\"\n",
    "sm=(sm[3:])\n",
    "print(sm)"
   ]
  },
  {
   "cell_type": "code",
   "execution_count": 55,
   "id": "5b9726ab",
   "metadata": {},
   "outputs": [
    {
     "name": "stdout",
     "output_type": "stream",
     "text": [
      "222333\n"
     ]
    }
   ],
   "source": [
    "m=\"11222333\"\n",
    "i=2\n",
    "print(m[i:])"
   ]
  },
  {
   "cell_type": "markdown",
   "id": "00f7444b",
   "metadata": {},
   "source": []
  },
  {
   "cell_type": "code",
   "execution_count": 10,
   "id": "9d20f478",
   "metadata": {},
   "outputs": [
    {
     "name": "stdout",
     "output_type": "stream",
     "text": [
      "length:  6\n",
      "68\n"
     ]
    }
   ],
   "source": [
    "def conv(c,s):\n",
    "    str=\"\"\n",
    "    str=str+c\n",
    "    str=str+s\n",
    "    print(str)\n",
    "    \n",
    "x=\"888222\"\n",
    "l=len(x)\n",
    "print(\"length: \",l)  \n",
    "\n",
    "\n",
    "for i in range(l):\n",
    "    s=x[0]\n",
    "    if(i==(l-1)):\n",
    "        count=i+1\n",
    "        c=str(count)\n",
    "        conv(c,s)\n"
   ]
  },
  {
   "cell_type": "markdown",
   "id": "43d2271f",
   "metadata": {},
   "source": [
    "# Final code after few failures"
   ]
  },
  {
   "cell_type": "code",
   "execution_count": 37,
   "id": "2f9c0b77",
   "metadata": {},
   "outputs": [
    {
     "name": "stdout",
     "output_type": "stream",
     "text": [
      "length:  12\n",
      "18121817111610261817\n"
     ]
    }
   ],
   "source": [
    "def conv(c,s):\n",
    "    str=\"\"\n",
    "    str=str+c\n",
    "    str=str+s\n",
    "    print(str)\n",
    "    \n",
    "x=\"82871606687\"\n",
    "x=x+str(0)\n",
    "l=len(x)\n",
    "print(\"length: \",l)\n",
    "c=x[0] # c= comparing element\n",
    "count=0\n",
    "next=''\n",
    "for i in range(l):\n",
    "    if(x[i]!=c or i==(l-1)):\n",
    "        next=next+str(count)+c\n",
    "        count=0\n",
    "        c=x[i]\n",
    "    count=count+1\n",
    "    \n",
    "print(next)\n",
    "        \n"
   ]
  },
  {
   "cell_type": "code",
   "execution_count": null,
   "id": "89b91e15",
   "metadata": {},
   "outputs": [],
   "source": []
  },
  {
   "cell_type": "code",
   "execution_count": null,
   "id": "e77e69be",
   "metadata": {},
   "outputs": [],
   "source": []
  },
  {
   "cell_type": "code",
   "execution_count": null,
   "id": "c7a5d2e5",
   "metadata": {},
   "outputs": [],
   "source": []
  }
 ],
 "metadata": {
  "kernelspec": {
   "display_name": "Python 3 (ipykernel)",
   "language": "python",
   "name": "python3"
  },
  "language_info": {
   "codemirror_mode": {
    "name": "ipython",
    "version": 3
   },
   "file_extension": ".py",
   "mimetype": "text/x-python",
   "name": "python",
   "nbconvert_exporter": "python",
   "pygments_lexer": "ipython3",
   "version": "3.9.7"
  }
 },
 "nbformat": 4,
 "nbformat_minor": 5
}
