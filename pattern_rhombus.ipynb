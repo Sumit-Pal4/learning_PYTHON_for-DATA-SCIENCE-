{
 "cells": [
  {
   "cell_type": "markdown",
   "id": "f5e22b46",
   "metadata": {},
   "source": [
    "# print RHOMBUS"
   ]
  },
  {
   "cell_type": "code",
   "execution_count": 70,
   "id": "a9124530",
   "metadata": {},
   "outputs": [
    {
     "name": "stdout",
     "output_type": "stream",
     "text": [
      "enter number: 7\n",
      "       *\n",
      "      ***\n",
      "     *****\n",
      "    *******\n",
      "   *********\n",
      "  ***********\n",
      " *************\n",
      " *************\n",
      "  ***********\n",
      "   *********\n",
      "    *******\n",
      "     *****\n",
      "      ***\n",
      "       *\n"
     ]
    }
   ],
   "source": [
    "n=int(input(\"enter number: \"))\n",
    "for i in range(n):\n",
    "    print(\" \"*(n-i),end=\"\")\n",
    "    print(\"*\"*((i*2)+1))\n",
    "    \n",
    "    \n",
    "x=n\n",
    "for i in range(n):\n",
    "    print(\" \"*(i+1),end=\"\")\n",
    "    \n",
    "    print(\"*\"*((x*2)-1))\n",
    "    x=x-1"
   ]
  },
  {
   "cell_type": "code",
   "execution_count": 72,
   "id": "75208e7e",
   "metadata": {},
   "outputs": [
    {
     "name": "stdout",
     "output_type": "stream",
     "text": [
      "       *\n",
      "      ***\n",
      "     *****\n",
      "    *******\n",
      "   *********\n",
      "  ***********\n",
      " *************\n",
      "  ***********\n",
      "   *********\n",
      "    *******\n",
      "     *****\n",
      "      ***\n",
      "       *\n",
      "        \n"
     ]
    }
   ],
   "source": [
    "\n",
    "for i in range(n):\n",
    "    print(\" \"*(n-i),end=\"\")\n",
    "    print(\"*\"*((i*2)+1))\n",
    "x=((n-1)*2)-1\n",
    "for i in range(n):\n",
    "    print(\" \"*(i+2),end=\"\")\n",
    "    \n",
    "    print(\"*\"*x)\n",
    "    x=x-2\n",
    "    \n",
    "    "
   ]
  },
  {
   "cell_type": "code",
   "execution_count": 63,
   "id": "2d229e83",
   "metadata": {},
   "outputs": [
    {
     "name": "stdout",
     "output_type": "stream",
     "text": [
      " ***\n",
      "  *\n",
      "   \n"
     ]
    }
   ],
   "source": [
    "x=((n-1)*2)-1\n",
    "for i in range(n):\n",
    "    print(\" \"*(i+1),end=\"\")\n",
    "    \n",
    "    print(\"*\"*x)\n",
    "    x=x-2\n",
    "    "
   ]
  },
  {
   "cell_type": "code",
   "execution_count": null,
   "id": "4e897daa",
   "metadata": {},
   "outputs": [],
   "source": [
    "for i in range(n):\n",
    "    print(\" \"*(n-i),end=\"\")\n",
    "    print(\"*\"*((i*2)+1))\n",
    "x=((n-1)*2)-1\n",
    "for i in range(n):\n",
    "    print(\" \"*(i+2),end=\"\")\n",
    "    \n",
    "    print(\"*\"*x)\n",
    "    x=x-2\n",
    "    "
   ]
  }
 ],
 "metadata": {
  "kernelspec": {
   "display_name": "Python 3 (ipykernel)",
   "language": "python",
   "name": "python3"
  },
  "language_info": {
   "codemirror_mode": {
    "name": "ipython",
    "version": 3
   },
   "file_extension": ".py",
   "mimetype": "text/x-python",
   "name": "python",
   "nbconvert_exporter": "python",
   "pygments_lexer": "ipython3",
   "version": "3.9.7"
  }
 },
 "nbformat": 4,
 "nbformat_minor": 5
}
