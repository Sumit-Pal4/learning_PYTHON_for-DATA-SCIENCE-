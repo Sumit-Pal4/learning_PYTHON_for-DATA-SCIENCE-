{
 "cells": [
  {
   "cell_type": "markdown",
   "id": "07a6b313",
   "metadata": {},
   "source": [
    "# FACTORIAL !!!!!"
   ]
  },
  {
   "cell_type": "code",
   "execution_count": 1,
   "id": "585d88fd",
   "metadata": {},
   "outputs": [
    {
     "name": "stdout",
     "output_type": "stream",
     "text": [
      "ENTER NUMBER: 6\n",
      "6 x 5 x 4 x 3 x 2 x 1 = 720\n"
     ]
    }
   ],
   "source": [
    "n=int(input(\"ENTER NUMBER: \"))\n",
    "f=1                   # intialization\n",
    "while n!=1:\n",
    "    f=f*n\n",
    "    print(n,\"x \",end='')  # for formula implementation\n",
    "    n=n-1\n",
    "print(n,\"=\",f)        # to print last number"
   ]
  },
  {
   "cell_type": "code",
   "execution_count": null,
   "id": "4ddf6500",
   "metadata": {},
   "outputs": [],
   "source": [
    "\n"
   ]
  },
  {
   "cell_type": "code",
   "execution_count": null,
   "id": "d09aa48e",
   "metadata": {},
   "outputs": [],
   "source": []
  },
  {
   "cell_type": "code",
   "execution_count": null,
   "id": "b4baad55",
   "metadata": {},
   "outputs": [],
   "source": []
  },
  {
   "cell_type": "code",
   "execution_count": null,
   "id": "802ba152",
   "metadata": {},
   "outputs": [],
   "source": []
  },
  {
   "cell_type": "code",
   "execution_count": null,
   "id": "82715c8a",
   "metadata": {},
   "outputs": [],
   "source": []
  },
  {
   "cell_type": "code",
   "execution_count": null,
   "id": "395a8485",
   "metadata": {},
   "outputs": [],
   "source": []
  }
 ],
 "metadata": {
  "kernelspec": {
   "display_name": "Python 3 (ipykernel)",
   "language": "python",
   "name": "python3"
  },
  "language_info": {
   "codemirror_mode": {
    "name": "ipython",
    "version": 3
   },
   "file_extension": ".py",
   "mimetype": "text/x-python",
   "name": "python",
   "nbconvert_exporter": "python",
   "pygments_lexer": "ipython3",
   "version": "3.9.7"
  }
 },
 "nbformat": 4,
 "nbformat_minor": 5
}
