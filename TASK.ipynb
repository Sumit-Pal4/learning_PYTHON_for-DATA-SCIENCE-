{
 "cells": [
  {
   "cell_type": "markdown",
   "id": "5ebed5a1",
   "metadata": {},
   "source": [
    "# find sum of first and last digit and print OUTPUT according to condition"
   ]
  },
  {
   "cell_type": "code",
   "execution_count": 1,
   "id": "c95b0e3b",
   "metadata": {},
   "outputs": [
    {
     "name": "stdout",
     "output_type": "stream",
     "text": [
      "INPUT VALID 5 DIGIT NUMBER: 34901\n",
      "LAST DIGIT:  1\n",
      "FIRST DIGIT:  3\n",
      "OUTPUT IS: FALSE\n"
     ]
    }
   ],
   "source": [
    "n=int(input(\"INPUT VALID 5 DIGIT NUMBER: \"))\n",
    "c=int(1)\n",
    "r=1\n",
    "first=0\n",
    "last=0\n",
    "while n!=0:\n",
    "    r=int(n%10)\n",
    "    n=int(n/10)\n",
    "    if(c==1):\n",
    "        last=r\n",
    "    elif(c==5):\n",
    "        first=r\n",
    "    c=c+1   \n",
    "print(\"LAST DIGIT: \",last)\n",
    "print(\"FIRST DIGIT: \",first)\n",
    "\n",
    "# print TRUE for >5, else FALSE    \n",
    "sum=first+last\n",
    "if(sum>5):\n",
    "    print(\"OUTPUT IS: TRUE\")\n",
    "else:\n",
    "    print(\"OUTPUT IS: FALSE\")\n",
    "    \n",
    "    "
   ]
  }
 ],
 "metadata": {
  "kernelspec": {
   "display_name": "Python 3 (ipykernel)",
   "language": "python",
   "name": "python3"
  },
  "language_info": {
   "codemirror_mode": {
    "name": "ipython",
    "version": 3
   },
   "file_extension": ".py",
   "mimetype": "text/x-python",
   "name": "python",
   "nbconvert_exporter": "python",
   "pygments_lexer": "ipython3",
   "version": "3.9.7"
  }
 },
 "nbformat": 4,
 "nbformat_minor": 5
}
