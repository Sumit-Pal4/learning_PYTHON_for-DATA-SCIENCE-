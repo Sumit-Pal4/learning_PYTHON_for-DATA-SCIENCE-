{
 "cells": [
  {
   "cell_type": "code",
   "execution_count": 5,
   "id": "6d1283eb",
   "metadata": {},
   "outputs": [
    {
     "name": "stdout",
     "output_type": "stream",
     "text": [
      "enter a number98\n",
      "no is prime\n",
      "no is prime\n",
      "no is prime\n",
      "no is prime\n",
      "no is prime\n",
      "no is prime\n",
      "no is prime\n",
      "no is prime\n",
      "no is prime\n",
      "no is prime\n",
      "no is prime\n",
      "no is prime\n",
      "no is prime\n",
      "no is prime\n",
      "no is prime\n",
      "no is prime\n",
      "no is prime\n",
      "no is prime\n",
      "no is prime\n",
      "no is prime\n",
      "no is prime\n",
      "no is prime\n",
      "no is prime\n",
      "no is prime\n",
      "no is prime\n",
      "no is prime\n",
      "no is prime\n",
      "no is prime\n",
      "no is prime\n",
      "no is prime\n",
      "no is prime\n",
      "no is prime\n",
      "no is prime\n",
      "no is prime\n",
      "no is prime\n",
      "no is prime\n",
      "no is prime\n",
      "no is prime\n",
      "no is prime\n",
      "no is prime\n",
      "no is prime\n",
      "no is prime\n",
      "no is prime\n",
      "no is prime\n",
      "no is prime\n",
      "no is prime\n",
      "no is prime\n",
      "no is prime\n",
      "no is prime\n",
      "no is prime\n",
      "no is prime\n",
      "no is prime\n",
      "no is prime\n",
      "no is prime\n",
      "no is prime\n",
      "no is prime\n",
      "no is prime\n",
      "no is prime\n",
      "no is prime\n",
      "no is prime\n",
      "no is prime\n",
      "no is prime\n",
      "no is prime\n",
      "no is prime\n",
      "no is prime\n",
      "no is prime\n",
      "no is prime\n",
      "no is prime\n",
      "no is prime\n",
      "no is prime\n",
      "no is prime\n",
      "no is prime\n",
      "no is prime\n",
      "no is prime\n",
      "no is prime\n",
      "no is prime\n",
      "no is prime\n",
      "no is prime\n",
      "no is prime\n",
      "no is prime\n",
      "no is prime\n",
      "no is prime\n",
      "no is prime\n",
      "no is prime\n",
      "no is prime\n",
      "no is prime\n",
      "no is prime\n",
      "no is prime\n",
      "no is prime\n",
      "no is prime\n",
      "no is prime\n"
     ]
    }
   ],
   "source": [
    "n=int(input(\"enter a number\"))\n",
    "a=3\n",
    "while a<n:\n",
    "    a=a+1\n",
    "    if n%a!=0:  \n",
    "        print(\"no is prime\")"
   ]
  },
  {
   "cell_type": "code",
   "execution_count": null,
   "id": "0281c5c2",
   "metadata": {},
   "outputs": [
    {
     "name": "stdout",
     "output_type": "stream",
     "text": [
      "enter a number: 55\n"
     ]
    }
   ],
   "source": [
    "n=int(input(\"enter a number: \"))\n",
    "p=False\n",
    "a=2\n",
    "while a!=n:\n",
    "    \n",
    "    if (n%a==0):  \n",
    "        #print(\"no is  not prime\")\n",
    "        p=True\n",
    "        break\n",
    "if p:\n",
    "    print(\"number is NOT prime\")\n",
    "else:\n",
    "    print(\"wow! its a PRIME number\")"
   ]
  },
  {
   "cell_type": "code",
   "execution_count": null,
   "id": "e59f5839",
   "metadata": {},
   "outputs": [],
   "source": [
    "n=100\n",
    "a=1\n",
    "while a<=n:\n",
    "    sqr=a*a\n",
    "    prd=a*2\n",
    "    print(sqr,end=' ') \n",
    "    a=a+1"
   ]
  },
  {
   "cell_type": "code",
   "execution_count": 3,
   "id": "3e9a3a87",
   "metadata": {},
   "outputs": [
    {
     "name": "stdout",
     "output_type": "stream",
     "text": [
      "enter number: 73\n",
      "73 is a prime number\n"
     ]
    }
   ],
   "source": [
    "num=int(input(\"enter number: \"))\n",
    "flag = False\n",
    "\n",
    "# prime numbers are greater than 1\n",
    "if num > 1:\n",
    "    # check for factors\n",
    "    for i in range(2, num):\n",
    "        if (num % i) == 0:\n",
    "            # if factor is found, set flag to True\n",
    "            flag = True\n",
    "            # break out of loop\n",
    "            break\n",
    "\n",
    "# check if flag is True\n",
    "if flag:\n",
    "    print(num, \"is not a prime number\")\n",
    "else:\n",
    "    print(num, \"is a prime number\")"
   ]
  },
  {
   "cell_type": "code",
   "execution_count": null,
   "id": "6485db68",
   "metadata": {},
   "outputs": [],
   "source": []
  },
  {
   "cell_type": "code",
   "execution_count": null,
   "id": "4fb784b3",
   "metadata": {},
   "outputs": [],
   "source": []
  }
 ],
 "metadata": {
  "kernelspec": {
   "display_name": "Python 3 (ipykernel)",
   "language": "python",
   "name": "python3"
  },
  "language_info": {
   "codemirror_mode": {
    "name": "ipython",
    "version": 3
   },
   "file_extension": ".py",
   "mimetype": "text/x-python",
   "name": "python",
   "nbconvert_exporter": "python",
   "pygments_lexer": "ipython3",
   "version": "3.9.7"
  }
 },
 "nbformat": 4,
 "nbformat_minor": 5
}
