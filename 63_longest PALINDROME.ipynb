{
 "cells": [
  {
   "cell_type": "markdown",
   "id": "e650a19e",
   "metadata": {},
   "source": [
    "# 63_longest palindrome"
   ]
  },
  {
   "cell_type": "code",
   "execution_count": 1,
   "id": "220e6df1",
   "metadata": {},
   "outputs": [],
   "source": [
    "# few functions are created for learning purpose ...but not used for execution"
   ]
  },
  {
   "cell_type": "code",
   "execution_count": 2,
   "id": "ed9af5e9",
   "metadata": {
    "scrolled": true
   },
   "outputs": [
    {
     "name": "stdout",
     "output_type": "stream",
     "text": [
      "['rahulluhar', 'ahulluha', 'hulluh', 'ullu', 'll', '', '', '', 'ara', '', '', '', 'ndn', 'nitinnitin', 'nitin', '', 'itinniti', 'iti', 'tinnit', 'inni', '', 'nn', '', '', 'nitin', '', '', '', 'iti', '', '', '', '', '', '', '', '', '', '', '']\n",
      "One of longest palindromes in---    rahulluharandnitinnitinr   ---is:\n",
      " rahulluhar\n"
     ]
    }
   ],
   "source": [
    "def reverse(a):                      # TO reverse a string\n",
    "    a_l=len(a)\n",
    "    #print(a)\n",
    "    #print(\"nnnnnnnnlength:\",a_l)\n",
    "    n_a=''\n",
    "    ls=[]\n",
    "    for i in range(a_l):\n",
    "        ls.append(a[i])\n",
    "        ls[i]=a[-(i+1)]\n",
    "        n_a=n_a+str(ls[i])\n",
    "    return n_a\n",
    "    #print(n_a)\n",
    "    \n",
    "def longPal(l_str):                  # return LONGEST PALINDROME\n",
    "    l=len(l_str)\n",
    "    #print(\"inside longpal length:\",l)\n",
    "    l_stri=[]\n",
    "    for i in range(l):\n",
    "        l_stri.append(int(len(l_str[i])))\n",
    "    #print(\"L_STRI is : \",l_stri)\n",
    "    y=max(l_stri)\n",
    "    pos=index(l_stri,y)\n",
    "    #print(\"position is:\",pos)\n",
    "    return (l_str[pos])\n",
    "\n",
    "def index(l_stri,y):                # to fetch index of LONGEST palindrome from LOP(list of palindromes)\n",
    "    l=len(l_stri)\n",
    "    for i in range(l):\n",
    "        if(l_stri[i]==y):\n",
    "            return(i)\n",
    "    \n",
    "        \n",
    "        \n",
    "    \n",
    "        \n",
    "        \n",
    "x=\"rahulluharandnitinnitinr\"\n",
    "l=len(x)                   #l:length\n",
    "tl=l-1              #tl: modified OR temporary length\n",
    "lop=[]    # lop :list of palindromes\n",
    "i=0\n",
    "for i in range(l): #(i=0,i<l,i++){ i=r\n",
    "    tl=l-1        \n",
    "    while (tl!=0):\n",
    "        #for i in range(l):                  WORKING HERE......to be continue\n",
    "        if(x[i]==x[tl] and i!=tl):\n",
    "            #print(\"got index\",i,tl)\n",
    "            nx=x[i:tl+1]               #nx: new X or new string(checked for PALINDROME, on basis of first and last element)\n",
    "            #print(nx)\n",
    "            a=reverse(nx)\n",
    "            if(a==nx):\n",
    "                lop.append(str(nx))\n",
    "            \n",
    "        \n",
    "        tl=tl-1\n",
    "print(lop)\n",
    "print(\"One of longest palindromes in---   \",x,\"  ---is:\\n\",longPal(lop))"
   ]
  },
  {
   "cell_type": "code",
   "execution_count": null,
   "id": "7b7ce5c2",
   "metadata": {},
   "outputs": [],
   "source": []
  }
 ],
 "metadata": {
  "kernelspec": {
   "display_name": "Python 3 (ipykernel)",
   "language": "python",
   "name": "python3"
  },
  "language_info": {
   "codemirror_mode": {
    "name": "ipython",
    "version": 3
   },
   "file_extension": ".py",
   "mimetype": "text/x-python",
   "name": "python",
   "nbconvert_exporter": "python",
   "pygments_lexer": "ipython3",
   "version": "3.9.7"
  }
 },
 "nbformat": 4,
 "nbformat_minor": 5
}
