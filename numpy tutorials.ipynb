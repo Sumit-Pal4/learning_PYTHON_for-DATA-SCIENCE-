{
 "cells": [
  {
   "cell_type": "markdown",
   "id": "0097ace5",
   "metadata": {},
   "source": [
    "# NUMPY tutorial"
   ]
  },
  {
   "cell_type": "markdown",
   "id": "dba4ba7c",
   "metadata": {},
   "source": [
    "funcrtions that RETURNS a COPY, executed as methods and attributes........if function is an attribute then , it can be called through DEFINED VARIABLE(x.abc()) ....... otherwise its a method(np.abc())"
   ]
  },
  {
   "cell_type": "code",
   "execution_count": 2,
   "id": "95a37e09",
   "metadata": {},
   "outputs": [],
   "source": [
    "import numpy as np"
   ]
  },
  {
   "cell_type": "code",
   "execution_count": 2,
   "id": "c8ac728d",
   "metadata": {},
   "outputs": [],
   "source": [
    "x=np.array([1,2,3])"
   ]
  },
  {
   "cell_type": "code",
   "execution_count": 3,
   "id": "664b8d79",
   "metadata": {},
   "outputs": [],
   "source": [
    "y=np.array([42,23,21])"
   ]
  },
  {
   "cell_type": "markdown",
   "id": "73b82193",
   "metadata": {},
   "source": [
    "# x"
   ]
  },
  {
   "cell_type": "markdown",
   "id": "33507031",
   "metadata": {},
   "source": [
    "## 2d array "
   ]
  },
  {
   "cell_type": "code",
   "execution_count": 4,
   "id": "3d1bb61d",
   "metadata": {},
   "outputs": [],
   "source": [
    "two_d=np.array([x,[4,5,6]])"
   ]
  },
  {
   "cell_type": "code",
   "execution_count": 5,
   "id": "62f66280",
   "metadata": {},
   "outputs": [
    {
     "data": {
      "text/plain": [
       "array([[1, 2, 3],\n",
       "       [4, 5, 6]])"
      ]
     },
     "execution_count": 5,
     "metadata": {},
     "output_type": "execute_result"
    }
   ],
   "source": [
    "two_d"
   ]
  },
  {
   "cell_type": "markdown",
   "id": "59f56415",
   "metadata": {},
   "source": [
    "## 3d array "
   ]
  },
  {
   "cell_type": "code",
   "execution_count": 6,
   "id": "2395b0b4",
   "metadata": {},
   "outputs": [
    {
     "data": {
      "text/plain": [
       "array([[[1, 2, 3],\n",
       "        [4, 5, 6],\n",
       "        [7, 8, 9]]])"
      ]
     },
     "execution_count": 6,
     "metadata": {},
     "output_type": "execute_result"
    }
   ],
   "source": [
    "threed=np.array([[[1,2,3],[4,5,6],[7,8,9]]] )\n",
    "threed"
   ]
  },
  {
   "cell_type": "markdown",
   "id": "2411354b",
   "metadata": {},
   "source": [
    "# conversion numpy to list (vice versa)"
   ]
  },
  {
   "cell_type": "code",
   "execution_count": 7,
   "id": "f71729aa",
   "metadata": {},
   "outputs": [],
   "source": [
    "n1=np.arange(5)\n",
    "n2=np.arange(2,10)\n",
    "n3=np.arange(2,10,2)\n"
   ]
  },
  {
   "cell_type": "code",
   "execution_count": 8,
   "id": "2a24b54f",
   "metadata": {},
   "outputs": [
    {
     "data": {
      "text/plain": [
       "array([0, 1, 2, 3, 4])"
      ]
     },
     "execution_count": 8,
     "metadata": {},
     "output_type": "execute_result"
    }
   ],
   "source": [
    "n1"
   ]
  },
  {
   "cell_type": "code",
   "execution_count": 9,
   "id": "b62d13a0",
   "metadata": {},
   "outputs": [
    {
     "data": {
      "text/plain": [
       "array([2, 3, 4, 5, 6, 7, 8, 9])"
      ]
     },
     "execution_count": 9,
     "metadata": {},
     "output_type": "execute_result"
    }
   ],
   "source": [
    "n2"
   ]
  },
  {
   "cell_type": "code",
   "execution_count": 10,
   "id": "fc6b1833",
   "metadata": {},
   "outputs": [
    {
     "data": {
      "text/plain": [
       "array([2, 4, 6, 8])"
      ]
     },
     "execution_count": 10,
     "metadata": {},
     "output_type": "execute_result"
    }
   ],
   "source": [
    "n3"
   ]
  },
  {
   "cell_type": "code",
   "execution_count": 11,
   "id": "4fd494b1",
   "metadata": {},
   "outputs": [
    {
     "data": {
      "text/plain": [
       "numpy.ndarray"
      ]
     },
     "execution_count": 11,
     "metadata": {},
     "output_type": "execute_result"
    }
   ],
   "source": [
    "type(n3)"
   ]
  },
  {
   "cell_type": "markdown",
   "id": "00d9c81d",
   "metadata": {},
   "source": [
    "## NUMPY to LIST"
   ]
  },
  {
   "cell_type": "code",
   "execution_count": 12,
   "id": "95ea07b1",
   "metadata": {},
   "outputs": [],
   "source": [
    "backtolist=n3.tolist()"
   ]
  },
  {
   "cell_type": "code",
   "execution_count": 13,
   "id": "c02a9ddf",
   "metadata": {},
   "outputs": [
    {
     "data": {
      "text/plain": [
       "list"
      ]
     },
     "execution_count": 13,
     "metadata": {},
     "output_type": "execute_result"
    }
   ],
   "source": [
    "type(backtolist)"
   ]
  },
  {
   "cell_type": "code",
   "execution_count": 14,
   "id": "bd238f09",
   "metadata": {},
   "outputs": [
    {
     "data": {
      "text/plain": [
       "array([0., 0., 0., 0., 0.])"
      ]
     },
     "execution_count": 14,
     "metadata": {},
     "output_type": "execute_result"
    }
   ],
   "source": [
    "np.zeros(5)"
   ]
  },
  {
   "cell_type": "markdown",
   "id": "73260ef7",
   "metadata": {},
   "source": [
    "# # linspace()     for evenly spaced sequence"
   ]
  },
  {
   "cell_type": "code",
   "execution_count": 15,
   "id": "cb5baa71",
   "metadata": {},
   "outputs": [
    {
     "data": {
      "text/plain": [
       "array([ 4.,  6.,  8., 10., 12.])"
      ]
     },
     "execution_count": 15,
     "metadata": {},
     "output_type": "execute_result"
    }
   ],
   "source": [
    "np.linspace(4,12,5)"
   ]
  },
  {
   "cell_type": "code",
   "execution_count": 16,
   "id": "91c2349a",
   "metadata": {},
   "outputs": [
    {
     "data": {
      "text/plain": [
       "array([ 4.,  6.,  8., 10., 12.])"
      ]
     },
     "execution_count": 16,
     "metadata": {},
     "output_type": "execute_result"
    }
   ],
   "source": [
    "np.linspace(4,12,5,endpoint=True)"
   ]
  },
  {
   "cell_type": "code",
   "execution_count": 17,
   "id": "711251e3",
   "metadata": {},
   "outputs": [
    {
     "data": {
      "text/plain": [
       "(array([ 4.,  6.,  8., 10., 12.]), 2.0)"
      ]
     },
     "execution_count": 17,
     "metadata": {},
     "output_type": "execute_result"
    }
   ],
   "source": [
    "np.linspace(4,12,5,retstep=True)  # REturn step intervals"
   ]
  },
  {
   "cell_type": "markdown",
   "id": "1924e85a",
   "metadata": {},
   "source": [
    "# rand and randint functiond differ"
   ]
  },
  {
   "cell_type": "code",
   "execution_count": 18,
   "id": "4a4d0717",
   "metadata": {},
   "outputs": [],
   "source": [
    "randoms=np.random.randint(12,24,[5,6])"
   ]
  },
  {
   "cell_type": "code",
   "execution_count": 19,
   "id": "dacc661c",
   "metadata": {},
   "outputs": [
    {
     "name": "stdout",
     "output_type": "stream",
     "text": [
      "[[12 22 23 20 14 13]\n",
      " [22 12 17 18 18 14]\n",
      " [15 12 16 16 16 14]\n",
      " [21 18 23 18 14 19]\n",
      " [14 12 15 23 13 23]]\n"
     ]
    }
   ],
   "source": [
    "print(randoms)"
   ]
  },
  {
   "cell_type": "markdown",
   "id": "8f3c3f80",
   "metadata": {},
   "source": [
    "# eye () VS identity() IDENTICAL matrix "
   ]
  },
  {
   "cell_type": "code",
   "execution_count": 20,
   "id": "9dd310bf",
   "metadata": {},
   "outputs": [
    {
     "data": {
      "text/plain": [
       "array([[1., 0., 0.],\n",
       "       [0., 1., 0.],\n",
       "       [0., 0., 1.]])"
      ]
     },
     "execution_count": 20,
     "metadata": {},
     "output_type": "execute_result"
    }
   ],
   "source": [
    "np.eye(3)"
   ]
  },
  {
   "cell_type": "code",
   "execution_count": 4,
   "id": "f7b96875",
   "metadata": {},
   "outputs": [
    {
     "data": {
      "text/plain": [
       "array([[0., 0., 1., 0.],\n",
       "       [0., 0., 0., 1.],\n",
       "       [0., 0., 0., 0.],\n",
       "       [0., 0., 0., 0.]])"
      ]
     },
     "execution_count": 4,
     "metadata": {},
     "output_type": "execute_result"
    }
   ],
   "source": [
    "np.eye(4,k=2)"
   ]
  },
  {
   "cell_type": "code",
   "execution_count": 22,
   "id": "572f31cd",
   "metadata": {},
   "outputs": [
    {
     "data": {
      "text/plain": [
       "array([[1., 0., 0.],\n",
       "       [0., 1., 0.],\n",
       "       [0., 0., 1.]])"
      ]
     },
     "execution_count": 22,
     "metadata": {},
     "output_type": "execute_result"
    }
   ],
   "source": [
    "np.identity(3)"
   ]
  },
  {
   "cell_type": "markdown",
   "id": "d85dc617",
   "metadata": {},
   "source": [
    "# attributes information  (NO PARAMETERS/ BRACKETS)"
   ]
  },
  {
   "cell_type": "code",
   "execution_count": 23,
   "id": "239e85b3",
   "metadata": {},
   "outputs": [
    {
     "data": {
      "text/plain": [
       "4"
      ]
     },
     "execution_count": 23,
     "metadata": {},
     "output_type": "execute_result"
    }
   ],
   "source": [
    "randoms.itemsize"
   ]
  },
  {
   "cell_type": "code",
   "execution_count": 24,
   "id": "6561b5bd",
   "metadata": {},
   "outputs": [
    {
     "data": {
      "text/plain": [
       "2"
      ]
     },
     "execution_count": 24,
     "metadata": {},
     "output_type": "execute_result"
    }
   ],
   "source": [
    "randoms.ndim"
   ]
  },
  {
   "cell_type": "code",
   "execution_count": 25,
   "id": "efce337b",
   "metadata": {},
   "outputs": [
    {
     "data": {
      "text/plain": [
       "30"
      ]
     },
     "execution_count": 25,
     "metadata": {},
     "output_type": "execute_result"
    }
   ],
   "source": [
    "randoms.size"
   ]
  },
  {
   "cell_type": "code",
   "execution_count": 26,
   "id": "8d39af9f",
   "metadata": {},
   "outputs": [
    {
     "data": {
      "text/plain": [
       "(5, 6)"
      ]
     },
     "execution_count": 26,
     "metadata": {},
     "output_type": "execute_result"
    }
   ],
   "source": [
    "randoms.shape"
   ]
  },
  {
   "cell_type": "markdown",
   "id": "1c930562",
   "metadata": {},
   "source": [
    "# numpy & list concatenation"
   ]
  },
  {
   "cell_type": "code",
   "execution_count": 27,
   "id": "6580c373",
   "metadata": {},
   "outputs": [],
   "source": [
    "l1 =[12,23,44]\n",
    "l2=[32,43,54]\n",
    "l3=[54,22,60]"
   ]
  },
  {
   "cell_type": "code",
   "execution_count": 28,
   "id": "91326547",
   "metadata": {},
   "outputs": [
    {
     "data": {
      "text/plain": [
       "[32, 43, 54, 54, 22, 60]"
      ]
     },
     "execution_count": 28,
     "metadata": {},
     "output_type": "execute_result"
    }
   ],
   "source": [
    "l4=l2+l3\n",
    "l4"
   ]
  },
  {
   "cell_type": "code",
   "execution_count": 29,
   "id": "cfc8922f",
   "metadata": {},
   "outputs": [
    {
     "data": {
      "text/plain": [
       "array([43, 25, 24])"
      ]
     },
     "execution_count": 29,
     "metadata": {},
     "output_type": "execute_result"
    }
   ],
   "source": [
    "z=x+y\n",
    "z"
   ]
  },
  {
   "cell_type": "code",
   "execution_count": 30,
   "id": "8d662884",
   "metadata": {},
   "outputs": [
    {
     "data": {
      "text/plain": [
       "(3,)"
      ]
     },
     "execution_count": 30,
     "metadata": {},
     "output_type": "execute_result"
    }
   ],
   "source": [
    "z.shape"
   ]
  },
  {
   "cell_type": "code",
   "execution_count": 31,
   "id": "0d7775e1",
   "metadata": {},
   "outputs": [
    {
     "data": {
      "text/plain": [
       "array([[43],\n",
       "       [25],\n",
       "       [24]])"
      ]
     },
     "execution_count": 31,
     "metadata": {},
     "output_type": "execute_result"
    }
   ],
   "source": [
    "z.reshape(3,1)"
   ]
  },
  {
   "cell_type": "markdown",
   "id": "eed016d1",
   "metadata": {},
   "source": [
    "# resize() .... differ from reshape() ??"
   ]
  },
  {
   "cell_type": "markdown",
   "id": "f1666d7e",
   "metadata": {},
   "source": [
    "# The difference between them is that the reshape() does not changes the original array but only returns the changed array, whereas the resize() method returns nothing and directly changes the original array"
   ]
  },
  {
   "cell_type": "raw",
   "id": "96122b01",
   "metadata": {},
   "source": [
    "# np.resize() : if new array is larger than  original array, then new array is filled with repeated copies of elements.\n",
    "# ARRAY.resize() : if new array is larger than  original array, then new array is filled with ZEROES .  "
   ]
  },
  {
   "cell_type": "code",
   "execution_count": null,
   "id": "b3b8e319",
   "metadata": {},
   "outputs": [],
   "source": [
    "np.resize()"
   ]
  },
  {
   "cell_type": "markdown",
   "id": "78046877",
   "metadata": {},
   "source": [
    "# COPY FUNCTION"
   ]
  },
  {
   "cell_type": "code",
   "execution_count": 33,
   "id": "fb8afc54",
   "metadata": {},
   "outputs": [
    {
     "data": {
      "text/plain": [
       "array([1, 2, 3])"
      ]
     },
     "execution_count": 33,
     "metadata": {},
     "output_type": "execute_result"
    }
   ],
   "source": [
    "x"
   ]
  },
  {
   "cell_type": "code",
   "execution_count": 34,
   "id": "526457cc",
   "metadata": {},
   "outputs": [
    {
     "data": {
      "text/plain": [
       "array([1, 2, 3])"
      ]
     },
     "execution_count": 34,
     "metadata": {},
     "output_type": "execute_result"
    }
   ],
   "source": [
    "a=x\n",
    "a"
   ]
  },
  {
   "cell_type": "code",
   "execution_count": 36,
   "id": "ee5469d3",
   "metadata": {},
   "outputs": [
    {
     "data": {
      "text/plain": [
       "array([222,   2,   3])"
      ]
     },
     "execution_count": 36,
     "metadata": {},
     "output_type": "execute_result"
    }
   ],
   "source": [
    "x[0]=222\n",
    "x"
   ]
  },
  {
   "cell_type": "code",
   "execution_count": 39,
   "id": "6fb8ea34",
   "metadata": {},
   "outputs": [],
   "source": [
    "a[0]=2345       ## CHANGES are reflected in a also"
   ]
  },
  {
   "cell_type": "code",
   "execution_count": 40,
   "id": "036de696",
   "metadata": {},
   "outputs": [
    {
     "data": {
      "text/plain": [
       "array([2345,    2,    3])"
      ]
     },
     "execution_count": 40,
     "metadata": {},
     "output_type": "execute_result"
    }
   ],
   "source": [
    "a"
   ]
  },
  {
   "cell_type": "code",
   "execution_count": 42,
   "id": "b66617b6",
   "metadata": {},
   "outputs": [
    {
     "data": {
      "text/plain": [
       "array([2345,    2,    3])"
      ]
     },
     "execution_count": 42,
     "metadata": {},
     "output_type": "execute_result"
    }
   ],
   "source": [
    "x    ### CHANGES are reverted to original array ALSO"
   ]
  },
  {
   "cell_type": "code",
   "execution_count": 44,
   "id": "e2f19d44",
   "metadata": {},
   "outputs": [],
   "source": [
    "b=x.copy()"
   ]
  },
  {
   "cell_type": "code",
   "execution_count": 45,
   "id": "7ad11b9f",
   "metadata": {},
   "outputs": [],
   "source": [
    "x[0]=987"
   ]
  },
  {
   "cell_type": "code",
   "execution_count": 47,
   "id": "5cbe5fec",
   "metadata": {},
   "outputs": [
    {
     "data": {
      "text/plain": [
       "array([2345,    2,    3])"
      ]
     },
     "execution_count": 47,
     "metadata": {},
     "output_type": "execute_result"
    }
   ],
   "source": [
    "b    # np.ndarray.base"
   ]
  },
  {
   "cell_type": "markdown",
   "id": "544828a1",
   "metadata": {},
   "source": [
    "### GO THROUGH np.copy() vs copy.deepcopy()"
   ]
  },
  {
   "cell_type": "markdown",
   "id": "c8bb3987",
   "metadata": {},
   "source": [
    "# view()"
   ]
  },
  {
   "cell_type": "markdown",
   "id": "844b8bb4",
   "metadata": {},
   "source": [
    " view(): changes made to view will affect the original array, VIEW IS JUST A VIEW OF ORIGINAL ARRAY.........................................................................................\n",
    "  copy() : any changes made to copy will not affect original array, COPY IS A NEW ARRAY    "
   ]
  },
  {
   "cell_type": "code",
   "execution_count": 48,
   "id": "14660cb9",
   "metadata": {},
   "outputs": [
    {
     "data": {
      "text/plain": [
       "array([987,   2,   3])"
      ]
     },
     "execution_count": 48,
     "metadata": {},
     "output_type": "execute_result"
    }
   ],
   "source": [
    "x"
   ]
  },
  {
   "cell_type": "code",
   "execution_count": 49,
   "id": "67b5fd37",
   "metadata": {},
   "outputs": [
    {
     "data": {
      "text/plain": [
       "array([ 987, 1000,    3])"
      ]
     },
     "execution_count": 49,
     "metadata": {},
     "output_type": "execute_result"
    }
   ],
   "source": [
    "c=x.view()\n",
    "c[1]=1000\n",
    "c"
   ]
  },
  {
   "cell_type": "code",
   "execution_count": 50,
   "id": "d1c07a3a",
   "metadata": {},
   "outputs": [
    {
     "data": {
      "text/plain": [
       "array([ 987, 1000,    3])"
      ]
     },
     "execution_count": 50,
     "metadata": {},
     "output_type": "execute_result"
    }
   ],
   "source": [
    "x"
   ]
  },
  {
   "cell_type": "markdown",
   "id": "399067b4",
   "metadata": {},
   "source": [
    "# flatten()"
   ]
  },
  {
   "cell_type": "code",
   "execution_count": 52,
   "id": "4c595b35",
   "metadata": {},
   "outputs": [
    {
     "data": {
      "text/plain": [
       "array([1, 2, 3, 4, 5, 6])"
      ]
     },
     "execution_count": 52,
     "metadata": {},
     "output_type": "execute_result"
    }
   ],
   "source": [
    "flat=two_d.flatten()\n",
    "flat"
   ]
  },
  {
   "cell_type": "code",
   "execution_count": 53,
   "id": "ed35f994",
   "metadata": {},
   "outputs": [
    {
     "data": {
      "text/plain": [
       "array([[1, 2, 3],\n",
       "       [4, 5, 6]])"
      ]
     },
     "execution_count": 53,
     "metadata": {},
     "output_type": "execute_result"
    }
   ],
   "source": [
    "two_d"
   ]
  },
  {
   "cell_type": "markdown",
   "id": "a5f9acbc",
   "metadata": {},
   "source": [
    "# ARITHMETIC() within single array"
   ]
  },
  {
   "cell_type": "markdown",
   "id": "f77396dd",
   "metadata": {},
   "source": [
    "# # SUM()   "
   ]
  },
  {
   "cell_type": "code",
   "execution_count": 55,
   "id": "fa3bcb72",
   "metadata": {},
   "outputs": [
    {
     "data": {
      "text/plain": [
       "array([0, 1, 2, 3, 4])"
      ]
     },
     "execution_count": 55,
     "metadata": {},
     "output_type": "execute_result"
    }
   ],
   "source": [
    "n1"
   ]
  },
  {
   "cell_type": "code",
   "execution_count": 56,
   "id": "d1c54f9d",
   "metadata": {},
   "outputs": [
    {
     "data": {
      "text/plain": [
       "array([2, 3, 4, 5, 6, 7, 8, 9])"
      ]
     },
     "execution_count": 56,
     "metadata": {},
     "output_type": "execute_result"
    }
   ],
   "source": [
    "n2"
   ]
  },
  {
   "cell_type": "code",
   "execution_count": 63,
   "id": "45ecad85",
   "metadata": {},
   "outputs": [],
   "source": [
    "n2.resize(4,2)"
   ]
  },
  {
   "cell_type": "code",
   "execution_count": 64,
   "id": "5e54d3a0",
   "metadata": {},
   "outputs": [
    {
     "data": {
      "text/plain": [
       "array([[2, 3],\n",
       "       [4, 5],\n",
       "       [6, 7],\n",
       "       [8, 9]])"
      ]
     },
     "execution_count": 64,
     "metadata": {},
     "output_type": "execute_result"
    }
   ],
   "source": [
    "n2"
   ]
  },
  {
   "cell_type": "code",
   "execution_count": 65,
   "id": "3a046025",
   "metadata": {},
   "outputs": [
    {
     "data": {
      "text/plain": [
       "array([ 5,  9, 13, 17])"
      ]
     },
     "execution_count": 65,
     "metadata": {},
     "output_type": "execute_result"
    }
   ],
   "source": [
    "n2.sum(axis=1)"
   ]
  },
  {
   "cell_type": "code",
   "execution_count": 68,
   "id": "4b50f3bb",
   "metadata": {},
   "outputs": [],
   "source": [
    "# SIMIlarly for PROD(), SORT(axis=0)"
   ]
  },
  {
   "cell_type": "markdown",
   "id": "156b6e75",
   "metadata": {},
   "source": [
    "# vstack()....MERGING"
   ]
  },
  {
   "cell_type": "markdown",
   "id": "2daddee6",
   "metadata": {},
   "source": [
    "### NOTE: in brackets tuple must be passed"
   ]
  },
  {
   "cell_type": "code",
   "execution_count": 69,
   "id": "aad90e63",
   "metadata": {},
   "outputs": [
    {
     "data": {
      "text/plain": [
       "array([[23, 56, 23],\n",
       "       [25, 87, 93]])"
      ]
     },
     "execution_count": 69,
     "metadata": {},
     "output_type": "execute_result"
    }
   ],
   "source": [
    "a1=np.array([23,56,23])\n",
    "a2=np.array([25,87,93])     \n",
    "np.vstack((a1,a2))\n"
   ]
  },
  {
   "cell_type": "code",
   "execution_count": 71,
   "id": "5dd2cbfe",
   "metadata": {},
   "outputs": [
    {
     "data": {
      "text/plain": [
       "array([23, 56, 23, 25, 87, 93])"
      ]
     },
     "execution_count": 71,
     "metadata": {},
     "output_type": "execute_result"
    }
   ],
   "source": [
    "np.hstack((a1,a2))"
   ]
  },
  {
   "cell_type": "markdown",
   "id": "9e231cd5",
   "metadata": {},
   "source": [
    "# SPLIT....... split into equal size"
   ]
  },
  {
   "cell_type": "code",
   "execution_count": 89,
   "id": "2f8e11a4",
   "metadata": {},
   "outputs": [
    {
     "data": {
      "text/plain": [
       "array([ 2,  3,  4,  5,  6,  7,  8,  9, 10, 11, 12, 13])"
      ]
     },
     "execution_count": 89,
     "metadata": {},
     "output_type": "execute_result"
    }
   ],
   "source": [
    "r1=np.arange(2,14)\n",
    "r1"
   ]
  },
  {
   "cell_type": "code",
   "execution_count": 90,
   "id": "b636410c",
   "metadata": {},
   "outputs": [
    {
     "data": {
      "text/plain": [
       "[array([2, 3, 4, 5, 6, 7]), array([ 8,  9, 10, 11, 12, 13])]"
      ]
     },
     "execution_count": 90,
     "metadata": {},
     "output_type": "execute_result"
    }
   ],
   "source": [
    "np.split(r1,2)"
   ]
  },
  {
   "cell_type": "code",
   "execution_count": 98,
   "id": "9f850c0e",
   "metadata": {},
   "outputs": [
    {
     "data": {
      "text/plain": [
       "[array([2, 3, 4]), array([ 5,  6,  7,  8,  9, 10, 11, 12, 13])]"
      ]
     },
     "execution_count": 98,
     "metadata": {},
     "output_type": "execute_result"
    }
   ],
   "source": [
    "np.split(r1,[3])          # to split at defined index"
   ]
  },
  {
   "cell_type": "code",
   "execution_count": 99,
   "id": "3b50151f",
   "metadata": {},
   "outputs": [
    {
     "data": {
      "text/plain": [
       "[array([2, 3, 4]), array([5, 6, 7]), array([ 8,  9, 10, 11, 12, 13])]"
      ]
     },
     "execution_count": 99,
     "metadata": {},
     "output_type": "execute_result"
    }
   ],
   "source": [
    "np.split(r1,[3,6])  "
   ]
  },
  {
   "cell_type": "code",
   "execution_count": null,
   "id": "33eb089a",
   "metadata": {},
   "outputs": [],
   "source": []
  },
  {
   "cell_type": "code",
   "execution_count": null,
   "id": "dd5ddb80",
   "metadata": {},
   "outputs": [],
   "source": []
  },
  {
   "cell_type": "code",
   "execution_count": null,
   "id": "ff247255",
   "metadata": {},
   "outputs": [],
   "source": []
  },
  {
   "cell_type": "code",
   "execution_count": null,
   "id": "73a77099",
   "metadata": {},
   "outputs": [],
   "source": []
  },
  {
   "cell_type": "code",
   "execution_count": null,
   "id": "7c404e6a",
   "metadata": {},
   "outputs": [],
   "source": []
  },
  {
   "cell_type": "code",
   "execution_count": null,
   "id": "d210609a",
   "metadata": {},
   "outputs": [],
   "source": []
  },
  {
   "cell_type": "code",
   "execution_count": null,
   "id": "950769a8",
   "metadata": {},
   "outputs": [],
   "source": []
  }
 ],
 "metadata": {
  "kernelspec": {
   "display_name": "Python 3 (ipykernel)",
   "language": "python",
   "name": "python3"
  },
  "language_info": {
   "codemirror_mode": {
    "name": "ipython",
    "version": 3
   },
   "file_extension": ".py",
   "mimetype": "text/x-python",
   "name": "python",
   "nbconvert_exporter": "python",
   "pygments_lexer": "ipython3",
   "version": "3.9.7"
  }
 },
 "nbformat": 4,
 "nbformat_minor": 5
}
